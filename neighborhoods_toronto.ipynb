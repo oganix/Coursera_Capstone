{
 "nbformat": 4,
 "nbformat_minor": 2,
 "metadata": {
  "language_info": {
   "name": "python",
   "codemirror_mode": {
    "name": "ipython",
    "version": 3
   },
   "version": "3.7.2-final"
  },
  "orig_nbformat": 2,
  "file_extension": ".py",
  "mimetype": "text/x-python",
  "name": "python",
  "npconvert_exporter": "python",
  "pygments_lexer": "ipython3",
  "version": 3,
  "kernelspec": {
   "name": "python37264bitplaygroundvirtualenv3737b38cece243e0a4657b87014b98d3",
   "display_name": "Python 3.7.2 64-bit ('playground': virtualenv)"
  }
 },
 "cells": [
  {
   "cell_type": "code",
   "execution_count": 2,
   "metadata": {},
   "outputs": [],
   "source": [
    "import pandas as pd\n",
    "import numpy as np"
   ]
  },
  {
   "cell_type": "code",
   "execution_count": 3,
   "metadata": {},
   "outputs": [
    {
     "name": "stdout",
     "output_type": "stream",
     "text": "Data downloaded!\n"
    }
   ],
   "source": [
    "# download web page\n",
    "!wget -q -O 'postal_code_canada.html' https://en.wikipedia.org/wiki/List_of_postal_codes_of_Canada:_M\n",
    "print('Data downloaded!')"
   ]
  },
  {
   "cell_type": "code",
   "execution_count": 4,
   "metadata": {},
   "outputs": [
    {
     "name": "stdout",
     "output_type": "stream",
     "text": "Requirement already satisfied: beautifulsoup4 in /Users/aogan/Projects/Python/Envs/playground/lib/python3.7/site-packages (4.8.2)\nRequirement already satisfied: soupsieve>=1.2 in /Users/aogan/Projects/Python/Envs/playground/lib/python3.7/site-packages (from beautifulsoup4) (2.0)\n"
    }
   ],
   "source": [
    "#install beautiful soup\n",
    "!pip install beautifulsoup4\n",
    "from bs4 import BeautifulSoup"
   ]
  },
  {
   "cell_type": "code",
   "execution_count": 7,
   "metadata": {},
   "outputs": [],
   "source": [
    "# parse web page\n",
    "with open(\"postal_code_canada.html\") as fp:\n",
    "    soup = BeautifulSoup(fp)\n",
    "\n",
    "#print(soup.table.prettify())\n",
    "\n",
    "borough_map={}\n",
    "neighborhood_map={}\n",
    "\n",
    "# build dataframe\n",
    "for row in soup.table.find_all('tr'):\n",
    "    cols = []\n",
    "\n",
    "    index = 0\n",
    "    for c in row.find_all('td'):\n",
    "        cols.append(c.string)\n",
    "        if index > 2:\n",
    "            break\n",
    "        else: \n",
    "            index += 1\n",
    "\n",
    "    if len(cols) != 3: \n",
    "        continue\n",
    "\n",
    "    code = cols[0]\n",
    "    borough= cols[1]   \n",
    "    neighborhood = cols[2] \n",
    "\n",
    "    if borough == \"Not assigned\":\n",
    "        continue\n",
    "\n",
    "    if neighborhood == \"Not assigned\":\n",
    "        neighborhood = borough\n",
    "\n",
    "    if neighborhood == None:\n",
    "        continue\n",
    "\n",
    "    borough_map[code] = borough\n",
    "\n",
    "    if code in neighborhood_map: \n",
    "        list = neighborhood_map[code]\n",
    "        list.append(neighborhood.strip('\\n'))\n",
    "        list.sort()\n",
    "        neighborhood_map[code] = list\n",
    "    else:    \n",
    "        neighborhood_map[code] = [neighborhood.strip('\\n')]\n",
    "\n",
    "    #print(borough_map)    \n",
    "    #print(neighborhood_map)\n"
   ]
  },
  {
   "cell_type": "code",
   "execution_count": 16,
   "metadata": {},
   "outputs": [
    {
     "data": {
      "text/html": "<div>\n<style scoped>\n    .dataframe tbody tr th:only-of-type {\n        vertical-align: middle;\n    }\n\n    .dataframe tbody tr th {\n        vertical-align: top;\n    }\n\n    .dataframe thead th {\n        text-align: right;\n    }\n</style>\n<table border=\"1\" class=\"dataframe\">\n  <thead>\n    <tr style=\"text-align: right;\">\n      <th></th>\n      <th>PostalCode</th>\n      <th>Borough</th>\n      <th>Neighborhood</th>\n    </tr>\n  </thead>\n  <tbody>\n    <tr>\n      <th>0</th>\n      <td>M3B</td>\n      <td>North York</td>\n      <td>Don Mills North</td>\n    </tr>\n    <tr>\n      <th>1</th>\n      <td>M5B</td>\n      <td>Downtown Toronto</td>\n      <td>Garden District,Ryerson</td>\n    </tr>\n    <tr>\n      <th>2</th>\n      <td>M6B</td>\n      <td>North York</td>\n      <td>Glencairn</td>\n    </tr>\n    <tr>\n      <th>3</th>\n      <td>M9B</td>\n      <td>Etobicoke</td>\n      <td>Cloverdale,Martin Grove</td>\n    </tr>\n    <tr>\n      <th>4</th>\n      <td>M3C</td>\n      <td>North York</td>\n      <td>Don Mills South</td>\n    </tr>\n    <tr>\n      <th>5</th>\n      <td>M9C</td>\n      <td>Etobicoke</td>\n      <td>Bloordale Gardens,Eringate,Old Burnhamthorpe</td>\n    </tr>\n    <tr>\n      <th>6</th>\n      <td>M1E</td>\n      <td>Scarborough</td>\n      <td>Guildwood</td>\n    </tr>\n    <tr>\n      <th>7</th>\n      <td>M6E</td>\n      <td>York</td>\n      <td>Caledonia-Fairbanks</td>\n    </tr>\n    <tr>\n      <th>8</th>\n      <td>M5G</td>\n      <td>Downtown Toronto</td>\n      <td>Central Bay Street</td>\n    </tr>\n    <tr>\n      <th>9</th>\n      <td>M6G</td>\n      <td>Downtown Toronto</td>\n      <td>Christie</td>\n    </tr>\n    <tr>\n      <th>10</th>\n      <td>M1H</td>\n      <td>Scarborough</td>\n      <td>Cedarbrae</td>\n    </tr>\n    <tr>\n      <th>11</th>\n      <td>M3H</td>\n      <td>North York</td>\n      <td>Downsview North</td>\n    </tr>\n    <tr>\n      <th>12</th>\n      <td>M5H</td>\n      <td>Downtown Toronto</td>\n      <td>Adelaide,King,Richmond</td>\n    </tr>\n    <tr>\n      <th>13</th>\n      <td>M6H</td>\n      <td>West Toronto</td>\n      <td>Dufferin</td>\n    </tr>\n    <tr>\n      <th>14</th>\n      <td>M2J</td>\n      <td>North York</td>\n      <td>Fairview,Oriole</td>\n    </tr>\n    <tr>\n      <th>15</th>\n      <td>M5J</td>\n      <td>Downtown Toronto</td>\n      <td>Harbourfront East</td>\n    </tr>\n    <tr>\n      <th>16</th>\n      <td>M1K</td>\n      <td>Scarborough</td>\n      <td>East Birchmount Park</td>\n    </tr>\n    <tr>\n      <th>17</th>\n      <td>M3K</td>\n      <td>North York</td>\n      <td>Downsview East</td>\n    </tr>\n    <tr>\n      <th>18</th>\n      <td>M4K</td>\n      <td>East Toronto</td>\n      <td>The Danforth West</td>\n    </tr>\n    <tr>\n      <th>19</th>\n      <td>M6K</td>\n      <td>West Toronto</td>\n      <td>Brockton</td>\n    </tr>\n    <tr>\n      <th>20</th>\n      <td>M2L</td>\n      <td>North York</td>\n      <td>Silver Hills</td>\n    </tr>\n    <tr>\n      <th>21</th>\n      <td>M4L</td>\n      <td>East Toronto</td>\n      <td>The Beaches West</td>\n    </tr>\n    <tr>\n      <th>22</th>\n      <td>M5L</td>\n      <td>Downtown Toronto</td>\n      <td>Victoria Hotel</td>\n    </tr>\n    <tr>\n      <th>23</th>\n      <td>M6L</td>\n      <td>North York</td>\n      <td>North Park,Upwood Park</td>\n    </tr>\n    <tr>\n      <th>24</th>\n      <td>M1M</td>\n      <td>Scarborough</td>\n      <td>Scarborough Village West</td>\n    </tr>\n    <tr>\n      <th>25</th>\n      <td>M3M</td>\n      <td>North York</td>\n      <td>Downsview Central</td>\n    </tr>\n    <tr>\n      <th>26</th>\n      <td>M4M</td>\n      <td>East Toronto</td>\n      <td>Studio District</td>\n    </tr>\n    <tr>\n      <th>27</th>\n      <td>M5M</td>\n      <td>North York</td>\n      <td>Lawrence Manor East</td>\n    </tr>\n    <tr>\n      <th>28</th>\n      <td>M6M</td>\n      <td>York</td>\n      <td>Del Ray</td>\n    </tr>\n    <tr>\n      <th>29</th>\n      <td>M1N</td>\n      <td>Scarborough</td>\n      <td>Cliffside West</td>\n    </tr>\n    <tr>\n      <th>30</th>\n      <td>M2N</td>\n      <td>North York</td>\n      <td>Willowdale South</td>\n    </tr>\n    <tr>\n      <th>31</th>\n      <td>M3N</td>\n      <td>North York</td>\n      <td>Downsview Northwest</td>\n    </tr>\n    <tr>\n      <th>32</th>\n      <td>M5N</td>\n      <td>Central Toronto</td>\n      <td>Roselawn</td>\n    </tr>\n    <tr>\n      <th>33</th>\n      <td>M6N</td>\n      <td>York</td>\n      <td>Runnymede,The Junction North</td>\n    </tr>\n    <tr>\n      <th>34</th>\n      <td>M2P</td>\n      <td>North York</td>\n      <td>York Mills West</td>\n    </tr>\n    <tr>\n      <th>35</th>\n      <td>M4P</td>\n      <td>Central Toronto</td>\n      <td>Davisville North</td>\n    </tr>\n    <tr>\n      <th>36</th>\n      <td>M5P</td>\n      <td>Central Toronto</td>\n      <td>Forest Hill West</td>\n    </tr>\n    <tr>\n      <th>37</th>\n      <td>M6P</td>\n      <td>West Toronto</td>\n      <td>The Junction South</td>\n    </tr>\n    <tr>\n      <th>38</th>\n      <td>M9P</td>\n      <td>Etobicoke</td>\n      <td>Westmount</td>\n    </tr>\n    <tr>\n      <th>39</th>\n      <td>M4R</td>\n      <td>Central Toronto</td>\n      <td>North Toronto West</td>\n    </tr>\n    <tr>\n      <th>40</th>\n      <td>M5R</td>\n      <td>Central Toronto</td>\n      <td>North Midtown</td>\n    </tr>\n    <tr>\n      <th>41</th>\n      <td>M7R</td>\n      <td>Mississauga</td>\n      <td>Canada Post Gateway Processing Centre</td>\n    </tr>\n    <tr>\n      <th>42</th>\n      <td>M9R</td>\n      <td>Etobicoke</td>\n      <td>Martin Grove Gardens,Richview Gardens,St. Phil...</td>\n    </tr>\n    <tr>\n      <th>43</th>\n      <td>M4S</td>\n      <td>Central Toronto</td>\n      <td>Davisville</td>\n    </tr>\n    <tr>\n      <th>44</th>\n      <td>M5S</td>\n      <td>Downtown Toronto</td>\n      <td>Harbord</td>\n    </tr>\n    <tr>\n      <th>45</th>\n      <td>M1T</td>\n      <td>Scarborough</td>\n      <td>Clarks Corners,Sullivan</td>\n    </tr>\n    <tr>\n      <th>46</th>\n      <td>M4T</td>\n      <td>Central Toronto</td>\n      <td>Summerhill East</td>\n    </tr>\n    <tr>\n      <th>47</th>\n      <td>M1V</td>\n      <td>Scarborough</td>\n      <td>L'Amoreaux East,Steeles East</td>\n    </tr>\n    <tr>\n      <th>48</th>\n      <td>M4V</td>\n      <td>Central Toronto</td>\n      <td>Forest Hill SE,Summerhill West</td>\n    </tr>\n    <tr>\n      <th>49</th>\n      <td>M5V</td>\n      <td>Downtown Toronto</td>\n      <td>Bathurst Quay,Harbourfront West,Island airport</td>\n    </tr>\n    <tr>\n      <th>50</th>\n      <td>M8V</td>\n      <td>Etobicoke</td>\n      <td>Humber Bay Shores,Mimico South</td>\n    </tr>\n    <tr>\n      <th>51</th>\n      <td>M9V</td>\n      <td>Etobicoke</td>\n      <td>Albion Gardens,Humbergate</td>\n    </tr>\n    <tr>\n      <th>52</th>\n      <td>M1W</td>\n      <td>Scarborough</td>\n      <td>L'Amoreaux West</td>\n    </tr>\n    <tr>\n      <th>53</th>\n      <td>M5W</td>\n      <td>Downtown Toronto</td>\n      <td>Stn A PO Boxes 25 The Esplanade</td>\n    </tr>\n    <tr>\n      <th>54</th>\n      <td>M9W</td>\n      <td>Etobicoke</td>\n      <td>Northwest</td>\n    </tr>\n    <tr>\n      <th>55</th>\n      <td>M8X</td>\n      <td>Etobicoke</td>\n      <td>Montgomery Road,Old Mill North</td>\n    </tr>\n    <tr>\n      <th>56</th>\n      <td>M7Y</td>\n      <td>East Toronto</td>\n      <td>Business Reply Mail Processing Centre 969 Eastern</td>\n    </tr>\n    <tr>\n      <th>57</th>\n      <td>M8Y</td>\n      <td>Etobicoke</td>\n      <td>King's Mill Park,Kingsway Park South East</td>\n    </tr>\n    <tr>\n      <th>58</th>\n      <td>M8Z</td>\n      <td>Etobicoke</td>\n      <td>Kingsway Park South West,Royal York South West...</td>\n    </tr>\n  </tbody>\n</table>\n</div>",
      "text/plain": "   PostalCode           Borough  \\\n0         M3B        North York   \n1         M5B  Downtown Toronto   \n2         M6B        North York   \n3         M9B         Etobicoke   \n4         M3C        North York   \n5         M9C         Etobicoke   \n6         M1E       Scarborough   \n7         M6E              York   \n8         M5G  Downtown Toronto   \n9         M6G  Downtown Toronto   \n10        M1H       Scarborough   \n11        M3H        North York   \n12        M5H  Downtown Toronto   \n13        M6H      West Toronto   \n14        M2J        North York   \n15        M5J  Downtown Toronto   \n16        M1K       Scarborough   \n17        M3K        North York   \n18        M4K      East Toronto   \n19        M6K      West Toronto   \n20        M2L        North York   \n21        M4L      East Toronto   \n22        M5L  Downtown Toronto   \n23        M6L        North York   \n24        M1M       Scarborough   \n25        M3M        North York   \n26        M4M      East Toronto   \n27        M5M        North York   \n28        M6M              York   \n29        M1N       Scarborough   \n30        M2N        North York   \n31        M3N        North York   \n32        M5N   Central Toronto   \n33        M6N              York   \n34        M2P        North York   \n35        M4P   Central Toronto   \n36        M5P   Central Toronto   \n37        M6P      West Toronto   \n38        M9P         Etobicoke   \n39        M4R   Central Toronto   \n40        M5R   Central Toronto   \n41        M7R       Mississauga   \n42        M9R         Etobicoke   \n43        M4S   Central Toronto   \n44        M5S  Downtown Toronto   \n45        M1T       Scarborough   \n46        M4T   Central Toronto   \n47        M1V       Scarborough   \n48        M4V   Central Toronto   \n49        M5V  Downtown Toronto   \n50        M8V         Etobicoke   \n51        M9V         Etobicoke   \n52        M1W       Scarborough   \n53        M5W  Downtown Toronto   \n54        M9W         Etobicoke   \n55        M8X         Etobicoke   \n56        M7Y      East Toronto   \n57        M8Y         Etobicoke   \n58        M8Z         Etobicoke   \n\n                                         Neighborhood  \n0                                     Don Mills North  \n1                             Garden District,Ryerson  \n2                                           Glencairn  \n3                             Cloverdale,Martin Grove  \n4                                     Don Mills South  \n5        Bloordale Gardens,Eringate,Old Burnhamthorpe  \n6                                           Guildwood  \n7                                 Caledonia-Fairbanks  \n8                                  Central Bay Street  \n9                                            Christie  \n10                                          Cedarbrae  \n11                                    Downsview North  \n12                             Adelaide,King,Richmond  \n13                                           Dufferin  \n14                                    Fairview,Oriole  \n15                                  Harbourfront East  \n16                               East Birchmount Park  \n17                                     Downsview East  \n18                                  The Danforth West  \n19                                           Brockton  \n20                                       Silver Hills  \n21                                   The Beaches West  \n22                                     Victoria Hotel  \n23                             North Park,Upwood Park  \n24                           Scarborough Village West  \n25                                  Downsview Central  \n26                                    Studio District  \n27                                Lawrence Manor East  \n28                                            Del Ray  \n29                                     Cliffside West  \n30                                   Willowdale South  \n31                                Downsview Northwest  \n32                                           Roselawn  \n33                       Runnymede,The Junction North  \n34                                    York Mills West  \n35                                   Davisville North  \n36                                   Forest Hill West  \n37                                 The Junction South  \n38                                          Westmount  \n39                                 North Toronto West  \n40                                      North Midtown  \n41              Canada Post Gateway Processing Centre  \n42  Martin Grove Gardens,Richview Gardens,St. Phil...  \n43                                         Davisville  \n44                                            Harbord  \n45                            Clarks Corners,Sullivan  \n46                                    Summerhill East  \n47                       L'Amoreaux East,Steeles East  \n48                     Forest Hill SE,Summerhill West  \n49     Bathurst Quay,Harbourfront West,Island airport  \n50                     Humber Bay Shores,Mimico South  \n51                          Albion Gardens,Humbergate  \n52                                    L'Amoreaux West  \n53                    Stn A PO Boxes 25 The Esplanade  \n54                                          Northwest  \n55                     Montgomery Road,Old Mill North  \n56  Business Reply Mail Processing Centre 969 Eastern  \n57          King's Mill Park,Kingsway Park South East  \n58  Kingsway Park South West,Royal York South West...  "
     },
     "execution_count": 16,
     "metadata": {},
     "output_type": "execute_result"
    }
   ],
   "source": [
    "# define the dataframe columns\n",
    "column_names = [\"PostalCode\", 'Borough', 'Neighborhood'] \n",
    "\n",
    "# instantiate the dataframe\n",
    "neighborhoods = pd.DataFrame(columns=column_names)\n",
    "\n",
    "#populate dataframe\n",
    "for key, value in borough_map.items():\n",
    "    neighborhood = neighborhood_map[key]\n",
    "    neighborhoods = neighborhoods.append({'PostalCode':key, 'Borough': value, 'Neighborhood': ','.join(neighborhood)}, ignore_index=True)    \n",
    "\n",
    "\n",
    "neighborhoods\n"
   ]
  },
  {
   "cell_type": "code",
   "execution_count": 14,
   "metadata": {},
   "outputs": [
    {
     "data": {
      "text/plain": "(59, 3)"
     },
     "execution_count": 14,
     "metadata": {},
     "output_type": "execute_result"
    }
   ],
   "source": [
    "neighborhoods.shape"
   ]
  }
 ]
}
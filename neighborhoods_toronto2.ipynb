{
 "nbformat": 4,
 "nbformat_minor": 2,
 "metadata": {
  "language_info": {
   "name": "python",
   "codemirror_mode": {
    "name": "ipython",
    "version": 3
   },
   "version": "3.7.2-final"
  },
  "orig_nbformat": 2,
  "file_extension": ".py",
  "mimetype": "text/x-python",
  "name": "python",
  "npconvert_exporter": "python",
  "pygments_lexer": "ipython3",
  "version": 3,
  "kernelspec": {
   "name": "python37264bitplaygroundvirtualenv3737b38cece243e0a4657b87014b98d3",
   "display_name": "Python 3.7.2 64-bit ('playground': virtualenv)"
  }
 },
 "cells": [
  {
   "cell_type": "code",
   "execution_count": 3,
   "metadata": {},
   "outputs": [],
   "source": [
    "import pandas as pd\n",
    "import numpy as np"
   ]
  },
  {
   "cell_type": "code",
   "execution_count": 4,
   "metadata": {},
   "outputs": [
    {
     "name": "stdout",
     "output_type": "stream",
     "text": "Data downloaded!\n"
    }
   ],
   "source": [
    "# download web page\n",
    "!wget -q -O 'postal_code_canada.html' https://en.wikipedia.org/wiki/List_of_postal_codes_of_Canada:_M\n",
    "print('Data downloaded!')"
   ]
  },
  {
   "cell_type": "code",
   "execution_count": null,
   "metadata": {},
   "outputs": [],
   "source": [
    "#install beautiful soup\n",
    "!pip install beautifulsoup4"
   ]
  },
  {
   "cell_type": "code",
   "execution_count": 5,
   "metadata": {},
   "outputs": [],
   "source": [
    "from bs4 import BeautifulSoup\n",
    "\n",
    "# parse web page\n",
    "with open(\"postal_code_canada.html\") as fp:\n",
    "    soup = BeautifulSoup(fp)\n",
    "\n",
    "#print(soup.table.prettify())\n",
    "\n",
    "borough_map={}\n",
    "neighborhood_map={}\n",
    "\n",
    "# build dataframe\n",
    "for row in soup.table.find_all('tr'):\n",
    "    cols = []\n",
    "\n",
    "    index = 0\n",
    "    for c in row.find_all('td'):\n",
    "        cols.append(c.string)\n",
    "        if index > 2:\n",
    "            break\n",
    "        else: \n",
    "            index += 1\n",
    "\n",
    "    if len(cols) != 3: \n",
    "        continue\n",
    "\n",
    "    code = cols[0]\n",
    "    borough= cols[1]   \n",
    "    neighborhood = cols[2] \n",
    "\n",
    "    if borough == \"Not assigned\":\n",
    "        continue\n",
    "\n",
    "    if neighborhood == \"Not assigned\":\n",
    "        neighborhood = borough\n",
    "\n",
    "    if neighborhood == None:\n",
    "        continue\n",
    "\n",
    "    borough_map[code] = borough\n",
    "\n",
    "    if code in neighborhood_map: \n",
    "        list = neighborhood_map[code]\n",
    "        list.append(neighborhood.strip('\\n'))\n",
    "        list.sort()\n",
    "        neighborhood_map[code] = list\n",
    "    else:    \n",
    "        neighborhood_map[code] = [neighborhood.strip('\\n')]\n",
    "\n",
    "    #print(borough_map)    \n",
    "    #print(neighborhood_map)\n"
   ]
  },
  {
   "cell_type": "code",
   "execution_count": 6,
   "metadata": {},
   "outputs": [
    {
     "data": {
      "text/html": "<div>\n<style scoped>\n    .dataframe tbody tr th:only-of-type {\n        vertical-align: middle;\n    }\n\n    .dataframe tbody tr th {\n        vertical-align: top;\n    }\n\n    .dataframe thead th {\n        text-align: right;\n    }\n</style>\n<table border=\"1\" class=\"dataframe\">\n  <thead>\n    <tr style=\"text-align: right;\">\n      <th></th>\n      <th>PostalCode</th>\n      <th>Borough</th>\n      <th>Neighborhood</th>\n    </tr>\n  </thead>\n  <tbody>\n    <tr>\n      <th>0</th>\n      <td>M3B</td>\n      <td>North York</td>\n      <td>Don Mills North</td>\n    </tr>\n    <tr>\n      <th>1</th>\n      <td>M5B</td>\n      <td>Downtown Toronto</td>\n      <td>Garden District,Ryerson</td>\n    </tr>\n    <tr>\n      <th>2</th>\n      <td>M6B</td>\n      <td>North York</td>\n      <td>Glencairn</td>\n    </tr>\n    <tr>\n      <th>3</th>\n      <td>M9B</td>\n      <td>Etobicoke</td>\n      <td>Cloverdale,Martin Grove</td>\n    </tr>\n    <tr>\n      <th>4</th>\n      <td>M3C</td>\n      <td>North York</td>\n      <td>Don Mills South</td>\n    </tr>\n    <tr>\n      <th>5</th>\n      <td>M9C</td>\n      <td>Etobicoke</td>\n      <td>Bloordale Gardens,Eringate,Old Burnhamthorpe</td>\n    </tr>\n    <tr>\n      <th>6</th>\n      <td>M1E</td>\n      <td>Scarborough</td>\n      <td>Guildwood</td>\n    </tr>\n    <tr>\n      <th>7</th>\n      <td>M6E</td>\n      <td>York</td>\n      <td>Caledonia-Fairbanks</td>\n    </tr>\n    <tr>\n      <th>8</th>\n      <td>M5G</td>\n      <td>Downtown Toronto</td>\n      <td>Central Bay Street</td>\n    </tr>\n    <tr>\n      <th>9</th>\n      <td>M6G</td>\n      <td>Downtown Toronto</td>\n      <td>Christie</td>\n    </tr>\n    <tr>\n      <th>10</th>\n      <td>M1H</td>\n      <td>Scarborough</td>\n      <td>Cedarbrae</td>\n    </tr>\n    <tr>\n      <th>11</th>\n      <td>M3H</td>\n      <td>North York</td>\n      <td>Downsview North</td>\n    </tr>\n    <tr>\n      <th>12</th>\n      <td>M5H</td>\n      <td>Downtown Toronto</td>\n      <td>Adelaide,King,Richmond</td>\n    </tr>\n    <tr>\n      <th>13</th>\n      <td>M6H</td>\n      <td>West Toronto</td>\n      <td>Dufferin</td>\n    </tr>\n    <tr>\n      <th>14</th>\n      <td>M2J</td>\n      <td>North York</td>\n      <td>Fairview,Oriole</td>\n    </tr>\n    <tr>\n      <th>15</th>\n      <td>M5J</td>\n      <td>Downtown Toronto</td>\n      <td>Harbourfront East</td>\n    </tr>\n    <tr>\n      <th>16</th>\n      <td>M1K</td>\n      <td>Scarborough</td>\n      <td>East Birchmount Park</td>\n    </tr>\n    <tr>\n      <th>17</th>\n      <td>M3K</td>\n      <td>North York</td>\n      <td>Downsview East</td>\n    </tr>\n    <tr>\n      <th>18</th>\n      <td>M4K</td>\n      <td>East Toronto</td>\n      <td>The Danforth West</td>\n    </tr>\n    <tr>\n      <th>19</th>\n      <td>M6K</td>\n      <td>West Toronto</td>\n      <td>Brockton</td>\n    </tr>\n    <tr>\n      <th>20</th>\n      <td>M2L</td>\n      <td>North York</td>\n      <td>Silver Hills</td>\n    </tr>\n    <tr>\n      <th>21</th>\n      <td>M4L</td>\n      <td>East Toronto</td>\n      <td>The Beaches West</td>\n    </tr>\n    <tr>\n      <th>22</th>\n      <td>M5L</td>\n      <td>Downtown Toronto</td>\n      <td>Victoria Hotel</td>\n    </tr>\n    <tr>\n      <th>23</th>\n      <td>M6L</td>\n      <td>North York</td>\n      <td>North Park,Upwood Park</td>\n    </tr>\n    <tr>\n      <th>24</th>\n      <td>M1M</td>\n      <td>Scarborough</td>\n      <td>Scarborough Village West</td>\n    </tr>\n    <tr>\n      <th>25</th>\n      <td>M3M</td>\n      <td>North York</td>\n      <td>Downsview Central</td>\n    </tr>\n    <tr>\n      <th>26</th>\n      <td>M4M</td>\n      <td>East Toronto</td>\n      <td>Studio District</td>\n    </tr>\n    <tr>\n      <th>27</th>\n      <td>M5M</td>\n      <td>North York</td>\n      <td>Lawrence Manor East</td>\n    </tr>\n    <tr>\n      <th>28</th>\n      <td>M6M</td>\n      <td>York</td>\n      <td>Del Ray</td>\n    </tr>\n    <tr>\n      <th>29</th>\n      <td>M1N</td>\n      <td>Scarborough</td>\n      <td>Cliffside West</td>\n    </tr>\n    <tr>\n      <th>30</th>\n      <td>M2N</td>\n      <td>North York</td>\n      <td>Willowdale South</td>\n    </tr>\n    <tr>\n      <th>31</th>\n      <td>M3N</td>\n      <td>North York</td>\n      <td>Downsview Northwest</td>\n    </tr>\n    <tr>\n      <th>32</th>\n      <td>M5N</td>\n      <td>Central Toronto</td>\n      <td>Roselawn</td>\n    </tr>\n    <tr>\n      <th>33</th>\n      <td>M6N</td>\n      <td>York</td>\n      <td>Runnymede,The Junction North</td>\n    </tr>\n    <tr>\n      <th>34</th>\n      <td>M2P</td>\n      <td>North York</td>\n      <td>York Mills West</td>\n    </tr>\n    <tr>\n      <th>35</th>\n      <td>M4P</td>\n      <td>Central Toronto</td>\n      <td>Davisville North</td>\n    </tr>\n    <tr>\n      <th>36</th>\n      <td>M5P</td>\n      <td>Central Toronto</td>\n      <td>Forest Hill West</td>\n    </tr>\n    <tr>\n      <th>37</th>\n      <td>M6P</td>\n      <td>West Toronto</td>\n      <td>The Junction South</td>\n    </tr>\n    <tr>\n      <th>38</th>\n      <td>M9P</td>\n      <td>Etobicoke</td>\n      <td>Westmount</td>\n    </tr>\n    <tr>\n      <th>39</th>\n      <td>M4R</td>\n      <td>Central Toronto</td>\n      <td>North Toronto West</td>\n    </tr>\n    <tr>\n      <th>40</th>\n      <td>M5R</td>\n      <td>Central Toronto</td>\n      <td>North Midtown</td>\n    </tr>\n    <tr>\n      <th>41</th>\n      <td>M7R</td>\n      <td>Mississauga</td>\n      <td>Canada Post Gateway Processing Centre</td>\n    </tr>\n    <tr>\n      <th>42</th>\n      <td>M9R</td>\n      <td>Etobicoke</td>\n      <td>Martin Grove Gardens,Richview Gardens,St. Phil...</td>\n    </tr>\n    <tr>\n      <th>43</th>\n      <td>M4S</td>\n      <td>Central Toronto</td>\n      <td>Davisville</td>\n    </tr>\n    <tr>\n      <th>44</th>\n      <td>M5S</td>\n      <td>Downtown Toronto</td>\n      <td>Harbord</td>\n    </tr>\n    <tr>\n      <th>45</th>\n      <td>M1T</td>\n      <td>Scarborough</td>\n      <td>Clarks Corners,Sullivan</td>\n    </tr>\n    <tr>\n      <th>46</th>\n      <td>M4T</td>\n      <td>Central Toronto</td>\n      <td>Summerhill East</td>\n    </tr>\n    <tr>\n      <th>47</th>\n      <td>M1V</td>\n      <td>Scarborough</td>\n      <td>L'Amoreaux East,Steeles East</td>\n    </tr>\n    <tr>\n      <th>48</th>\n      <td>M4V</td>\n      <td>Central Toronto</td>\n      <td>Forest Hill SE,Summerhill West</td>\n    </tr>\n    <tr>\n      <th>49</th>\n      <td>M5V</td>\n      <td>Downtown Toronto</td>\n      <td>Bathurst Quay,Harbourfront West,Island airport</td>\n    </tr>\n    <tr>\n      <th>50</th>\n      <td>M8V</td>\n      <td>Etobicoke</td>\n      <td>Humber Bay Shores,Mimico South</td>\n    </tr>\n    <tr>\n      <th>51</th>\n      <td>M9V</td>\n      <td>Etobicoke</td>\n      <td>Albion Gardens,Humbergate</td>\n    </tr>\n    <tr>\n      <th>52</th>\n      <td>M1W</td>\n      <td>Scarborough</td>\n      <td>L'Amoreaux West</td>\n    </tr>\n    <tr>\n      <th>53</th>\n      <td>M5W</td>\n      <td>Downtown Toronto</td>\n      <td>Stn A PO Boxes 25 The Esplanade</td>\n    </tr>\n    <tr>\n      <th>54</th>\n      <td>M9W</td>\n      <td>Etobicoke</td>\n      <td>Northwest</td>\n    </tr>\n    <tr>\n      <th>55</th>\n      <td>M8X</td>\n      <td>Etobicoke</td>\n      <td>Montgomery Road,Old Mill North</td>\n    </tr>\n    <tr>\n      <th>56</th>\n      <td>M7Y</td>\n      <td>East Toronto</td>\n      <td>Business Reply Mail Processing Centre 969 Eastern</td>\n    </tr>\n    <tr>\n      <th>57</th>\n      <td>M8Y</td>\n      <td>Etobicoke</td>\n      <td>King's Mill Park,Kingsway Park South East</td>\n    </tr>\n    <tr>\n      <th>58</th>\n      <td>M8Z</td>\n      <td>Etobicoke</td>\n      <td>Kingsway Park South West,Royal York South West...</td>\n    </tr>\n  </tbody>\n</table>\n</div>",
      "text/plain": "   PostalCode           Borough  \\\n0         M3B        North York   \n1         M5B  Downtown Toronto   \n2         M6B        North York   \n3         M9B         Etobicoke   \n4         M3C        North York   \n5         M9C         Etobicoke   \n6         M1E       Scarborough   \n7         M6E              York   \n8         M5G  Downtown Toronto   \n9         M6G  Downtown Toronto   \n10        M1H       Scarborough   \n11        M3H        North York   \n12        M5H  Downtown Toronto   \n13        M6H      West Toronto   \n14        M2J        North York   \n15        M5J  Downtown Toronto   \n16        M1K       Scarborough   \n17        M3K        North York   \n18        M4K      East Toronto   \n19        M6K      West Toronto   \n20        M2L        North York   \n21        M4L      East Toronto   \n22        M5L  Downtown Toronto   \n23        M6L        North York   \n24        M1M       Scarborough   \n25        M3M        North York   \n26        M4M      East Toronto   \n27        M5M        North York   \n28        M6M              York   \n29        M1N       Scarborough   \n30        M2N        North York   \n31        M3N        North York   \n32        M5N   Central Toronto   \n33        M6N              York   \n34        M2P        North York   \n35        M4P   Central Toronto   \n36        M5P   Central Toronto   \n37        M6P      West Toronto   \n38        M9P         Etobicoke   \n39        M4R   Central Toronto   \n40        M5R   Central Toronto   \n41        M7R       Mississauga   \n42        M9R         Etobicoke   \n43        M4S   Central Toronto   \n44        M5S  Downtown Toronto   \n45        M1T       Scarborough   \n46        M4T   Central Toronto   \n47        M1V       Scarborough   \n48        M4V   Central Toronto   \n49        M5V  Downtown Toronto   \n50        M8V         Etobicoke   \n51        M9V         Etobicoke   \n52        M1W       Scarborough   \n53        M5W  Downtown Toronto   \n54        M9W         Etobicoke   \n55        M8X         Etobicoke   \n56        M7Y      East Toronto   \n57        M8Y         Etobicoke   \n58        M8Z         Etobicoke   \n\n                                         Neighborhood  \n0                                     Don Mills North  \n1                             Garden District,Ryerson  \n2                                           Glencairn  \n3                             Cloverdale,Martin Grove  \n4                                     Don Mills South  \n5        Bloordale Gardens,Eringate,Old Burnhamthorpe  \n6                                           Guildwood  \n7                                 Caledonia-Fairbanks  \n8                                  Central Bay Street  \n9                                            Christie  \n10                                          Cedarbrae  \n11                                    Downsview North  \n12                             Adelaide,King,Richmond  \n13                                           Dufferin  \n14                                    Fairview,Oriole  \n15                                  Harbourfront East  \n16                               East Birchmount Park  \n17                                     Downsview East  \n18                                  The Danforth West  \n19                                           Brockton  \n20                                       Silver Hills  \n21                                   The Beaches West  \n22                                     Victoria Hotel  \n23                             North Park,Upwood Park  \n24                           Scarborough Village West  \n25                                  Downsview Central  \n26                                    Studio District  \n27                                Lawrence Manor East  \n28                                            Del Ray  \n29                                     Cliffside West  \n30                                   Willowdale South  \n31                                Downsview Northwest  \n32                                           Roselawn  \n33                       Runnymede,The Junction North  \n34                                    York Mills West  \n35                                   Davisville North  \n36                                   Forest Hill West  \n37                                 The Junction South  \n38                                          Westmount  \n39                                 North Toronto West  \n40                                      North Midtown  \n41              Canada Post Gateway Processing Centre  \n42  Martin Grove Gardens,Richview Gardens,St. Phil...  \n43                                         Davisville  \n44                                            Harbord  \n45                            Clarks Corners,Sullivan  \n46                                    Summerhill East  \n47                       L'Amoreaux East,Steeles East  \n48                     Forest Hill SE,Summerhill West  \n49     Bathurst Quay,Harbourfront West,Island airport  \n50                     Humber Bay Shores,Mimico South  \n51                          Albion Gardens,Humbergate  \n52                                    L'Amoreaux West  \n53                    Stn A PO Boxes 25 The Esplanade  \n54                                          Northwest  \n55                     Montgomery Road,Old Mill North  \n56  Business Reply Mail Processing Centre 969 Eastern  \n57          King's Mill Park,Kingsway Park South East  \n58  Kingsway Park South West,Royal York South West...  "
     },
     "execution_count": 6,
     "metadata": {},
     "output_type": "execute_result"
    }
   ],
   "source": [
    "# define the dataframe columns\n",
    "column_names = [\"PostalCode\", 'Borough', 'Neighborhood'] \n",
    "\n",
    "# instantiate the dataframe\n",
    "neighborhoods = pd.DataFrame(columns=column_names)\n",
    "\n",
    "#populate dataframe\n",
    "for key, value in borough_map.items():\n",
    "    neighborhood = neighborhood_map[key]\n",
    "    neighborhoods = neighborhoods.append({'PostalCode':key, 'Borough': value, 'Neighborhood': ','.join(neighborhood)}, ignore_index=True)    \n",
    "\n",
    "\n",
    "neighborhoods\n"
   ]
  },
  {
   "cell_type": "code",
   "execution_count": 7,
   "metadata": {},
   "outputs": [
    {
     "data": {
      "text/html": "<div>\n<style scoped>\n    .dataframe tbody tr th:only-of-type {\n        vertical-align: middle;\n    }\n\n    .dataframe tbody tr th {\n        vertical-align: top;\n    }\n\n    .dataframe thead th {\n        text-align: right;\n    }\n</style>\n<table border=\"1\" class=\"dataframe\">\n  <thead>\n    <tr style=\"text-align: right;\">\n      <th></th>\n      <th>PostalCode</th>\n      <th>Latitude</th>\n      <th>Longitude</th>\n    </tr>\n  </thead>\n  <tbody>\n    <tr>\n      <th>0</th>\n      <td>M1B</td>\n      <td>43.806686</td>\n      <td>-79.194353</td>\n    </tr>\n    <tr>\n      <th>1</th>\n      <td>M1C</td>\n      <td>43.784535</td>\n      <td>-79.160497</td>\n    </tr>\n    <tr>\n      <th>2</th>\n      <td>M1E</td>\n      <td>43.763573</td>\n      <td>-79.188711</td>\n    </tr>\n    <tr>\n      <th>3</th>\n      <td>M1G</td>\n      <td>43.770992</td>\n      <td>-79.216917</td>\n    </tr>\n    <tr>\n      <th>4</th>\n      <td>M1H</td>\n      <td>43.773136</td>\n      <td>-79.239476</td>\n    </tr>\n    <tr>\n      <th>...</th>\n      <td>...</td>\n      <td>...</td>\n      <td>...</td>\n    </tr>\n    <tr>\n      <th>98</th>\n      <td>M9N</td>\n      <td>43.706876</td>\n      <td>-79.518188</td>\n    </tr>\n    <tr>\n      <th>99</th>\n      <td>M9P</td>\n      <td>43.696319</td>\n      <td>-79.532242</td>\n    </tr>\n    <tr>\n      <th>100</th>\n      <td>M9R</td>\n      <td>43.688905</td>\n      <td>-79.554724</td>\n    </tr>\n    <tr>\n      <th>101</th>\n      <td>M9V</td>\n      <td>43.739416</td>\n      <td>-79.588437</td>\n    </tr>\n    <tr>\n      <th>102</th>\n      <td>M9W</td>\n      <td>43.706748</td>\n      <td>-79.594054</td>\n    </tr>\n  </tbody>\n</table>\n<p>103 rows × 3 columns</p>\n</div>",
      "text/plain": "    PostalCode   Latitude  Longitude\n0          M1B  43.806686 -79.194353\n1          M1C  43.784535 -79.160497\n2          M1E  43.763573 -79.188711\n3          M1G  43.770992 -79.216917\n4          M1H  43.773136 -79.239476\n..         ...        ...        ...\n98         M9N  43.706876 -79.518188\n99         M9P  43.696319 -79.532242\n100        M9R  43.688905 -79.554724\n101        M9V  43.739416 -79.588437\n102        M9W  43.706748 -79.594054\n\n[103 rows x 3 columns]"
     },
     "execution_count": 7,
     "metadata": {},
     "output_type": "execute_result"
    }
   ],
   "source": [
    "# load geographical coordinates\n",
    "neighborhoods_geo = pd.read_csv(\"http://cocl.us/Geospatial_data\", sep=\",\")\n",
    "\n",
    "# renamed column 'Posta Code' -> 'PostalCode' for the merge\n",
    "neighborhoods_geo.rename(columns={'Postal Code': 'PostalCode'}, inplace=True)\n",
    "neighborhoods_geo\n"
   ]
  },
  {
   "cell_type": "code",
   "execution_count": 11,
   "metadata": {},
   "outputs": [
    {
     "data": {
      "text/html": "<div>\n<style scoped>\n    .dataframe tbody tr th:only-of-type {\n        vertical-align: middle;\n    }\n\n    .dataframe tbody tr th {\n        vertical-align: top;\n    }\n\n    .dataframe thead th {\n        text-align: right;\n    }\n</style>\n<table border=\"1\" class=\"dataframe\">\n  <thead>\n    <tr style=\"text-align: right;\">\n      <th></th>\n      <th>PostalCode</th>\n      <th>Borough</th>\n      <th>Neighborhood</th>\n      <th>Latitude</th>\n      <th>Longitude</th>\n    </tr>\n  </thead>\n  <tbody>\n    <tr>\n      <th>0</th>\n      <td>M3B</td>\n      <td>North York</td>\n      <td>Don Mills North</td>\n      <td>43.745906</td>\n      <td>-79.352188</td>\n    </tr>\n    <tr>\n      <th>1</th>\n      <td>M5B</td>\n      <td>Downtown Toronto</td>\n      <td>Garden District,Ryerson</td>\n      <td>43.657162</td>\n      <td>-79.378937</td>\n    </tr>\n    <tr>\n      <th>2</th>\n      <td>M6B</td>\n      <td>North York</td>\n      <td>Glencairn</td>\n      <td>43.709577</td>\n      <td>-79.445073</td>\n    </tr>\n    <tr>\n      <th>3</th>\n      <td>M9B</td>\n      <td>Etobicoke</td>\n      <td>Cloverdale,Martin Grove</td>\n      <td>43.650943</td>\n      <td>-79.554724</td>\n    </tr>\n    <tr>\n      <th>4</th>\n      <td>M3C</td>\n      <td>North York</td>\n      <td>Don Mills South</td>\n      <td>43.725900</td>\n      <td>-79.340923</td>\n    </tr>\n    <tr>\n      <th>5</th>\n      <td>M9C</td>\n      <td>Etobicoke</td>\n      <td>Bloordale Gardens,Eringate,Old Burnhamthorpe</td>\n      <td>43.643515</td>\n      <td>-79.577201</td>\n    </tr>\n    <tr>\n      <th>6</th>\n      <td>M1E</td>\n      <td>Scarborough</td>\n      <td>Guildwood</td>\n      <td>43.763573</td>\n      <td>-79.188711</td>\n    </tr>\n    <tr>\n      <th>7</th>\n      <td>M6E</td>\n      <td>York</td>\n      <td>Caledonia-Fairbanks</td>\n      <td>43.689026</td>\n      <td>-79.453512</td>\n    </tr>\n    <tr>\n      <th>8</th>\n      <td>M5G</td>\n      <td>Downtown Toronto</td>\n      <td>Central Bay Street</td>\n      <td>43.657952</td>\n      <td>-79.387383</td>\n    </tr>\n    <tr>\n      <th>9</th>\n      <td>M6G</td>\n      <td>Downtown Toronto</td>\n      <td>Christie</td>\n      <td>43.669542</td>\n      <td>-79.422564</td>\n    </tr>\n    <tr>\n      <th>10</th>\n      <td>M1H</td>\n      <td>Scarborough</td>\n      <td>Cedarbrae</td>\n      <td>43.773136</td>\n      <td>-79.239476</td>\n    </tr>\n    <tr>\n      <th>11</th>\n      <td>M3H</td>\n      <td>North York</td>\n      <td>Downsview North</td>\n      <td>43.754328</td>\n      <td>-79.442259</td>\n    </tr>\n    <tr>\n      <th>12</th>\n      <td>M5H</td>\n      <td>Downtown Toronto</td>\n      <td>Adelaide,King,Richmond</td>\n      <td>43.650571</td>\n      <td>-79.384568</td>\n    </tr>\n    <tr>\n      <th>13</th>\n      <td>M6H</td>\n      <td>West Toronto</td>\n      <td>Dufferin</td>\n      <td>43.669005</td>\n      <td>-79.442259</td>\n    </tr>\n    <tr>\n      <th>14</th>\n      <td>M2J</td>\n      <td>North York</td>\n      <td>Fairview,Oriole</td>\n      <td>43.778517</td>\n      <td>-79.346556</td>\n    </tr>\n    <tr>\n      <th>15</th>\n      <td>M5J</td>\n      <td>Downtown Toronto</td>\n      <td>Harbourfront East</td>\n      <td>43.640816</td>\n      <td>-79.381752</td>\n    </tr>\n    <tr>\n      <th>16</th>\n      <td>M1K</td>\n      <td>Scarborough</td>\n      <td>East Birchmount Park</td>\n      <td>43.727929</td>\n      <td>-79.262029</td>\n    </tr>\n    <tr>\n      <th>17</th>\n      <td>M3K</td>\n      <td>North York</td>\n      <td>Downsview East</td>\n      <td>43.737473</td>\n      <td>-79.464763</td>\n    </tr>\n    <tr>\n      <th>18</th>\n      <td>M4K</td>\n      <td>East Toronto</td>\n      <td>The Danforth West</td>\n      <td>43.679557</td>\n      <td>-79.352188</td>\n    </tr>\n    <tr>\n      <th>19</th>\n      <td>M6K</td>\n      <td>West Toronto</td>\n      <td>Brockton</td>\n      <td>43.636847</td>\n      <td>-79.428191</td>\n    </tr>\n    <tr>\n      <th>20</th>\n      <td>M2L</td>\n      <td>North York</td>\n      <td>Silver Hills</td>\n      <td>43.757490</td>\n      <td>-79.374714</td>\n    </tr>\n    <tr>\n      <th>21</th>\n      <td>M4L</td>\n      <td>East Toronto</td>\n      <td>The Beaches West</td>\n      <td>43.668999</td>\n      <td>-79.315572</td>\n    </tr>\n    <tr>\n      <th>22</th>\n      <td>M5L</td>\n      <td>Downtown Toronto</td>\n      <td>Victoria Hotel</td>\n      <td>43.648198</td>\n      <td>-79.379817</td>\n    </tr>\n    <tr>\n      <th>23</th>\n      <td>M6L</td>\n      <td>North York</td>\n      <td>North Park,Upwood Park</td>\n      <td>43.713756</td>\n      <td>-79.490074</td>\n    </tr>\n    <tr>\n      <th>24</th>\n      <td>M1M</td>\n      <td>Scarborough</td>\n      <td>Scarborough Village West</td>\n      <td>43.716316</td>\n      <td>-79.239476</td>\n    </tr>\n    <tr>\n      <th>25</th>\n      <td>M3M</td>\n      <td>North York</td>\n      <td>Downsview Central</td>\n      <td>43.728496</td>\n      <td>-79.495697</td>\n    </tr>\n    <tr>\n      <th>26</th>\n      <td>M4M</td>\n      <td>East Toronto</td>\n      <td>Studio District</td>\n      <td>43.659526</td>\n      <td>-79.340923</td>\n    </tr>\n    <tr>\n      <th>27</th>\n      <td>M5M</td>\n      <td>North York</td>\n      <td>Lawrence Manor East</td>\n      <td>43.733283</td>\n      <td>-79.419750</td>\n    </tr>\n    <tr>\n      <th>28</th>\n      <td>M6M</td>\n      <td>York</td>\n      <td>Del Ray</td>\n      <td>43.691116</td>\n      <td>-79.476013</td>\n    </tr>\n    <tr>\n      <th>29</th>\n      <td>M1N</td>\n      <td>Scarborough</td>\n      <td>Cliffside West</td>\n      <td>43.692657</td>\n      <td>-79.264848</td>\n    </tr>\n    <tr>\n      <th>30</th>\n      <td>M2N</td>\n      <td>North York</td>\n      <td>Willowdale South</td>\n      <td>43.770120</td>\n      <td>-79.408493</td>\n    </tr>\n    <tr>\n      <th>31</th>\n      <td>M3N</td>\n      <td>North York</td>\n      <td>Downsview Northwest</td>\n      <td>43.761631</td>\n      <td>-79.520999</td>\n    </tr>\n    <tr>\n      <th>32</th>\n      <td>M5N</td>\n      <td>Central Toronto</td>\n      <td>Roselawn</td>\n      <td>43.711695</td>\n      <td>-79.416936</td>\n    </tr>\n    <tr>\n      <th>33</th>\n      <td>M6N</td>\n      <td>York</td>\n      <td>Runnymede,The Junction North</td>\n      <td>43.673185</td>\n      <td>-79.487262</td>\n    </tr>\n    <tr>\n      <th>34</th>\n      <td>M2P</td>\n      <td>North York</td>\n      <td>York Mills West</td>\n      <td>43.752758</td>\n      <td>-79.400049</td>\n    </tr>\n    <tr>\n      <th>35</th>\n      <td>M4P</td>\n      <td>Central Toronto</td>\n      <td>Davisville North</td>\n      <td>43.712751</td>\n      <td>-79.390197</td>\n    </tr>\n    <tr>\n      <th>36</th>\n      <td>M5P</td>\n      <td>Central Toronto</td>\n      <td>Forest Hill West</td>\n      <td>43.696948</td>\n      <td>-79.411307</td>\n    </tr>\n    <tr>\n      <th>37</th>\n      <td>M6P</td>\n      <td>West Toronto</td>\n      <td>The Junction South</td>\n      <td>43.661608</td>\n      <td>-79.464763</td>\n    </tr>\n    <tr>\n      <th>38</th>\n      <td>M9P</td>\n      <td>Etobicoke</td>\n      <td>Westmount</td>\n      <td>43.696319</td>\n      <td>-79.532242</td>\n    </tr>\n    <tr>\n      <th>39</th>\n      <td>M4R</td>\n      <td>Central Toronto</td>\n      <td>North Toronto West</td>\n      <td>43.715383</td>\n      <td>-79.405678</td>\n    </tr>\n    <tr>\n      <th>40</th>\n      <td>M5R</td>\n      <td>Central Toronto</td>\n      <td>North Midtown</td>\n      <td>43.672710</td>\n      <td>-79.405678</td>\n    </tr>\n    <tr>\n      <th>41</th>\n      <td>M7R</td>\n      <td>Mississauga</td>\n      <td>Canada Post Gateway Processing Centre</td>\n      <td>43.636966</td>\n      <td>-79.615819</td>\n    </tr>\n    <tr>\n      <th>42</th>\n      <td>M9R</td>\n      <td>Etobicoke</td>\n      <td>Martin Grove Gardens,Richview Gardens,St. Phil...</td>\n      <td>43.688905</td>\n      <td>-79.554724</td>\n    </tr>\n    <tr>\n      <th>43</th>\n      <td>M4S</td>\n      <td>Central Toronto</td>\n      <td>Davisville</td>\n      <td>43.704324</td>\n      <td>-79.388790</td>\n    </tr>\n    <tr>\n      <th>44</th>\n      <td>M5S</td>\n      <td>Downtown Toronto</td>\n      <td>Harbord</td>\n      <td>43.662696</td>\n      <td>-79.400049</td>\n    </tr>\n    <tr>\n      <th>45</th>\n      <td>M1T</td>\n      <td>Scarborough</td>\n      <td>Clarks Corners,Sullivan</td>\n      <td>43.781638</td>\n      <td>-79.304302</td>\n    </tr>\n    <tr>\n      <th>46</th>\n      <td>M4T</td>\n      <td>Central Toronto</td>\n      <td>Summerhill East</td>\n      <td>43.689574</td>\n      <td>-79.383160</td>\n    </tr>\n    <tr>\n      <th>47</th>\n      <td>M1V</td>\n      <td>Scarborough</td>\n      <td>L'Amoreaux East,Steeles East</td>\n      <td>43.815252</td>\n      <td>-79.284577</td>\n    </tr>\n    <tr>\n      <th>48</th>\n      <td>M4V</td>\n      <td>Central Toronto</td>\n      <td>Forest Hill SE,Summerhill West</td>\n      <td>43.686412</td>\n      <td>-79.400049</td>\n    </tr>\n    <tr>\n      <th>49</th>\n      <td>M5V</td>\n      <td>Downtown Toronto</td>\n      <td>Bathurst Quay,Harbourfront West,Island airport</td>\n      <td>43.628947</td>\n      <td>-79.394420</td>\n    </tr>\n    <tr>\n      <th>50</th>\n      <td>M8V</td>\n      <td>Etobicoke</td>\n      <td>Humber Bay Shores,Mimico South</td>\n      <td>43.605647</td>\n      <td>-79.501321</td>\n    </tr>\n    <tr>\n      <th>51</th>\n      <td>M9V</td>\n      <td>Etobicoke</td>\n      <td>Albion Gardens,Humbergate</td>\n      <td>43.739416</td>\n      <td>-79.588437</td>\n    </tr>\n    <tr>\n      <th>52</th>\n      <td>M1W</td>\n      <td>Scarborough</td>\n      <td>L'Amoreaux West</td>\n      <td>43.799525</td>\n      <td>-79.318389</td>\n    </tr>\n    <tr>\n      <th>53</th>\n      <td>M5W</td>\n      <td>Downtown Toronto</td>\n      <td>Stn A PO Boxes 25 The Esplanade</td>\n      <td>43.646435</td>\n      <td>-79.374846</td>\n    </tr>\n    <tr>\n      <th>54</th>\n      <td>M9W</td>\n      <td>Etobicoke</td>\n      <td>Northwest</td>\n      <td>43.706748</td>\n      <td>-79.594054</td>\n    </tr>\n    <tr>\n      <th>55</th>\n      <td>M8X</td>\n      <td>Etobicoke</td>\n      <td>Montgomery Road,Old Mill North</td>\n      <td>43.653654</td>\n      <td>-79.506944</td>\n    </tr>\n    <tr>\n      <th>56</th>\n      <td>M7Y</td>\n      <td>East Toronto</td>\n      <td>Business Reply Mail Processing Centre 969 Eastern</td>\n      <td>43.662744</td>\n      <td>-79.321558</td>\n    </tr>\n    <tr>\n      <th>57</th>\n      <td>M8Y</td>\n      <td>Etobicoke</td>\n      <td>King's Mill Park,Kingsway Park South East</td>\n      <td>43.636258</td>\n      <td>-79.498509</td>\n    </tr>\n    <tr>\n      <th>58</th>\n      <td>M8Z</td>\n      <td>Etobicoke</td>\n      <td>Kingsway Park South West,Royal York South West...</td>\n      <td>43.628841</td>\n      <td>-79.520999</td>\n    </tr>\n  </tbody>\n</table>\n</div>",
      "text/plain": "   PostalCode           Borough  \\\n0         M3B        North York   \n1         M5B  Downtown Toronto   \n2         M6B        North York   \n3         M9B         Etobicoke   \n4         M3C        North York   \n5         M9C         Etobicoke   \n6         M1E       Scarborough   \n7         M6E              York   \n8         M5G  Downtown Toronto   \n9         M6G  Downtown Toronto   \n10        M1H       Scarborough   \n11        M3H        North York   \n12        M5H  Downtown Toronto   \n13        M6H      West Toronto   \n14        M2J        North York   \n15        M5J  Downtown Toronto   \n16        M1K       Scarborough   \n17        M3K        North York   \n18        M4K      East Toronto   \n19        M6K      West Toronto   \n20        M2L        North York   \n21        M4L      East Toronto   \n22        M5L  Downtown Toronto   \n23        M6L        North York   \n24        M1M       Scarborough   \n25        M3M        North York   \n26        M4M      East Toronto   \n27        M5M        North York   \n28        M6M              York   \n29        M1N       Scarborough   \n30        M2N        North York   \n31        M3N        North York   \n32        M5N   Central Toronto   \n33        M6N              York   \n34        M2P        North York   \n35        M4P   Central Toronto   \n36        M5P   Central Toronto   \n37        M6P      West Toronto   \n38        M9P         Etobicoke   \n39        M4R   Central Toronto   \n40        M5R   Central Toronto   \n41        M7R       Mississauga   \n42        M9R         Etobicoke   \n43        M4S   Central Toronto   \n44        M5S  Downtown Toronto   \n45        M1T       Scarborough   \n46        M4T   Central Toronto   \n47        M1V       Scarborough   \n48        M4V   Central Toronto   \n49        M5V  Downtown Toronto   \n50        M8V         Etobicoke   \n51        M9V         Etobicoke   \n52        M1W       Scarborough   \n53        M5W  Downtown Toronto   \n54        M9W         Etobicoke   \n55        M8X         Etobicoke   \n56        M7Y      East Toronto   \n57        M8Y         Etobicoke   \n58        M8Z         Etobicoke   \n\n                                         Neighborhood   Latitude  Longitude  \n0                                     Don Mills North  43.745906 -79.352188  \n1                             Garden District,Ryerson  43.657162 -79.378937  \n2                                           Glencairn  43.709577 -79.445073  \n3                             Cloverdale,Martin Grove  43.650943 -79.554724  \n4                                     Don Mills South  43.725900 -79.340923  \n5        Bloordale Gardens,Eringate,Old Burnhamthorpe  43.643515 -79.577201  \n6                                           Guildwood  43.763573 -79.188711  \n7                                 Caledonia-Fairbanks  43.689026 -79.453512  \n8                                  Central Bay Street  43.657952 -79.387383  \n9                                            Christie  43.669542 -79.422564  \n10                                          Cedarbrae  43.773136 -79.239476  \n11                                    Downsview North  43.754328 -79.442259  \n12                             Adelaide,King,Richmond  43.650571 -79.384568  \n13                                           Dufferin  43.669005 -79.442259  \n14                                    Fairview,Oriole  43.778517 -79.346556  \n15                                  Harbourfront East  43.640816 -79.381752  \n16                               East Birchmount Park  43.727929 -79.262029  \n17                                     Downsview East  43.737473 -79.464763  \n18                                  The Danforth West  43.679557 -79.352188  \n19                                           Brockton  43.636847 -79.428191  \n20                                       Silver Hills  43.757490 -79.374714  \n21                                   The Beaches West  43.668999 -79.315572  \n22                                     Victoria Hotel  43.648198 -79.379817  \n23                             North Park,Upwood Park  43.713756 -79.490074  \n24                           Scarborough Village West  43.716316 -79.239476  \n25                                  Downsview Central  43.728496 -79.495697  \n26                                    Studio District  43.659526 -79.340923  \n27                                Lawrence Manor East  43.733283 -79.419750  \n28                                            Del Ray  43.691116 -79.476013  \n29                                     Cliffside West  43.692657 -79.264848  \n30                                   Willowdale South  43.770120 -79.408493  \n31                                Downsview Northwest  43.761631 -79.520999  \n32                                           Roselawn  43.711695 -79.416936  \n33                       Runnymede,The Junction North  43.673185 -79.487262  \n34                                    York Mills West  43.752758 -79.400049  \n35                                   Davisville North  43.712751 -79.390197  \n36                                   Forest Hill West  43.696948 -79.411307  \n37                                 The Junction South  43.661608 -79.464763  \n38                                          Westmount  43.696319 -79.532242  \n39                                 North Toronto West  43.715383 -79.405678  \n40                                      North Midtown  43.672710 -79.405678  \n41              Canada Post Gateway Processing Centre  43.636966 -79.615819  \n42  Martin Grove Gardens,Richview Gardens,St. Phil...  43.688905 -79.554724  \n43                                         Davisville  43.704324 -79.388790  \n44                                            Harbord  43.662696 -79.400049  \n45                            Clarks Corners,Sullivan  43.781638 -79.304302  \n46                                    Summerhill East  43.689574 -79.383160  \n47                       L'Amoreaux East,Steeles East  43.815252 -79.284577  \n48                     Forest Hill SE,Summerhill West  43.686412 -79.400049  \n49     Bathurst Quay,Harbourfront West,Island airport  43.628947 -79.394420  \n50                     Humber Bay Shores,Mimico South  43.605647 -79.501321  \n51                          Albion Gardens,Humbergate  43.739416 -79.588437  \n52                                    L'Amoreaux West  43.799525 -79.318389  \n53                    Stn A PO Boxes 25 The Esplanade  43.646435 -79.374846  \n54                                          Northwest  43.706748 -79.594054  \n55                     Montgomery Road,Old Mill North  43.653654 -79.506944  \n56  Business Reply Mail Processing Centre 969 Eastern  43.662744 -79.321558  \n57          King's Mill Park,Kingsway Park South East  43.636258 -79.498509  \n58  Kingsway Park South West,Royal York South West...  43.628841 -79.520999  "
     },
     "execution_count": 11,
     "metadata": {},
     "output_type": "execute_result"
    }
   ],
   "source": [
    "# merge the dataframes\n",
    "neigborhoods = pd.merge(neighborhoods, neighborhoods_geo, how=\"left\", on=\"PostalCode\")\n",
    "neigborhoods"
   ]
  },
  {
   "cell_type": "code",
   "execution_count": null,
   "metadata": {},
   "outputs": [],
   "source": []
  }
 ]
}
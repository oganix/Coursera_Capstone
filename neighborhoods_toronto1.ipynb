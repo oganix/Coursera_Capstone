{
 "nbformat": 4,
 "nbformat_minor": 2,
 "metadata": {
  "language_info": {
   "name": "python",
   "codemirror_mode": {
    "name": "ipython",
    "version": 3
   },
   "version": "3.7.2-final"
  },
  "orig_nbformat": 2,
  "file_extension": ".py",
  "mimetype": "text/x-python",
  "name": "python",
  "npconvert_exporter": "python",
  "pygments_lexer": "ipython3",
  "version": 3,
  "kernelspec": {
   "name": "python37264bitplaygroundvirtualenv3737b38cece243e0a4657b87014b98d3",
   "display_name": "Python 3.7.2 64-bit ('playground': virtualenv)"
  }
 },
 "cells": [
  {
   "cell_type": "code",
   "execution_count": null,
   "metadata": {},
   "outputs": [],
   "source": [
    "import pandas as pd\n",
    "import numpy as np"
   ]
  },
  {
   "cell_type": "code",
   "execution_count": null,
   "metadata": {},
   "outputs": [],
   "source": [
    "# download web page\n",
    "!wget -q -O 'postal_code_canada.html' https://en.wikipedia.org/wiki/List_of_postal_codes_of_Canada:_M\n",
    "print('Data downloaded!')"
   ]
  },
  {
   "cell_type": "code",
   "execution_count": null,
   "metadata": {},
   "outputs": [],
   "source": [
    "#install beautiful soup\n",
    "!pip install beautifulsoup4\n",
    "from bs4 import BeautifulSoup"
   ]
  },
  {
   "cell_type": "code",
   "execution_count": null,
   "metadata": {},
   "outputs": [],
   "source": [
    "# parse web page\n",
    "with open(\"postal_code_canada.html\") as fp:\n",
    "    soup = BeautifulSoup(fp)\n",
    "\n",
    "#print(soup.table.prettify())\n",
    "\n",
    "borough_map={}\n",
    "neighborhood_map={}\n",
    "\n",
    "# build dataframe\n",
    "for row in soup.table.find_all('tr'):\n",
    "    cols = []\n",
    "\n",
    "    index = 0\n",
    "    for c in row.find_all('td'):\n",
    "        cols.append(c.string)\n",
    "        if index > 2:\n",
    "            break\n",
    "        else: \n",
    "            index += 1\n",
    "\n",
    "    if len(cols) != 3: \n",
    "        continue\n",
    "\n",
    "    code = cols[0]\n",
    "    borough= cols[1]   \n",
    "    neighborhood = cols[2] \n",
    "\n",
    "    if borough == \"Not assigned\":\n",
    "        continue\n",
    "\n",
    "    if neighborhood == \"Not assigned\":\n",
    "        neighborhood = borough\n",
    "\n",
    "    if neighborhood == None:\n",
    "        continue\n",
    "\n",
    "    borough_map[code] = borough\n",
    "\n",
    "    if code in neighborhood_map: \n",
    "        list = neighborhood_map[code]\n",
    "        list.append(neighborhood.strip('\\n'))\n",
    "        list.sort()\n",
    "        neighborhood_map[code] = list\n",
    "    else:    \n",
    "        neighborhood_map[code] = [neighborhood.strip('\\n')]\n",
    "\n",
    "    #print(borough_map)    \n",
    "    #print(neighborhood_map)\n"
   ]
  },
  {
   "cell_type": "code",
   "execution_count": null,
   "metadata": {},
   "outputs": [],
   "source": [
    "# define the dataframe columns\n",
    "column_names = [\"PostalCode\", 'Borough', 'Neighborhood'] \n",
    "\n",
    "# instantiate the dataframe\n",
    "neighborhoods = pd.DataFrame(columns=column_names)\n",
    "\n",
    "#populate dataframe\n",
    "for key, value in borough_map.items():\n",
    "    neighborhood = neighborhood_map[key]\n",
    "    neighborhoods = neighborhoods.append({'PostalCode':key, 'Borough': value, 'Neighborhood': ','.join(neighborhood)}, ignore_index=True)    \n",
    "\n",
    "\n",
    "neighborhoods\n"
   ]
  },
  {
   "cell_type": "code",
   "execution_count": null,
   "metadata": {},
   "outputs": [],
   "source": [
    "neighborhoods.shape"
   ]
  }
 ]
}